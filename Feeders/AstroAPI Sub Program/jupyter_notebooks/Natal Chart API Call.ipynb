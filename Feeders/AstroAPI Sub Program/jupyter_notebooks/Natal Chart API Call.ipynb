{
 "cells": [
  {
   "cell_type": "raw",
   "id": "6342711f-d3c5-4224-a6db-b101a6280065",
   "metadata": {},
   "source": [
    "#Original JSON Query Structure DO NOT RUN\n",
    "\n",
    "var api = 'western_chart_data';\n",
    "var userId = '632629';\n",
    "var apiKey = 'e168a427af50174135b26d6a44bafce7db608da4';\n",
    "var language = 'en' // By default it is set to en\n",
    "var data = {\n",
    "  day: 6,\n",
    "  month: 1,\n",
    "  year: 1989,\n",
    "  hour: 15,\n",
    "  min: 10,\n",
    "  lat: 19.132,\n",
    "  lon: 72.342,\n",
    "  tzone: -5,\n",
    "};\n",
    "\n",
    "var auth = \"Basic \" + new Buffer(userId + \":\" + apiKey).toString(\"base64\");\n",
    "\n",
    "var request = $.ajax({\n",
    "url: \"https://json.astrologyapi.com/v1/\"+api,\n",
    "method: \"POST\",\n",
    "dataType:'json',\n",
    "headers: {\n",
    "    \"authorization\": auth,\n",
    "    \"Content-Type\":'application/json',\n",
    "    \"Accept-Language\": language \n",
    "},\n",
    "    data:JSON.stringify(data)\n",
    "});\n",
    "\n",
    "request.then( function(resp){\n",
    "    console.log(resp);\n",
    "}, function(err){\n",
    "    console.log(err);\n",
    "});"
   ]
  },
  {
   "cell_type": "code",
   "execution_count": 1,
   "id": "5d7ba530-edc9-49ee-ae71-684cee718590",
   "metadata": {},
   "outputs": [
    {
     "name": "stdout",
     "output_type": "stream",
     "text": [
      "{'houses': [{'start_degree': 78.89229, 'end_degree': 100.98632, 'sign': 'Gemini', 'house_id': 1, 'planets': [{'name': 'Chiron', 'sign': 'Cancer', 'full_degree': 93.4837, 'is_retro': 'true'}]}, {'start_degree': 100.98632, 'end_degree': 122.68627, 'sign': 'Cancer', 'house_id': 2, 'planets': []}, {'start_degree': 122.68627, 'end_degree': 147.79932, 'sign': 'Leo', 'house_id': 3, 'planets': []}, {'start_degree': 147.79932, 'end_degree': 179.97811, 'sign': 'Leo', 'house_id': 4, 'planets': [{'name': 'Lilith', 'sign': 'Virgo', 'full_degree': 176.3712, 'is_retro': 'false'}]}, {'start_degree': 179.97811, 'end_degree': 219.72598, 'sign': 'Virgo', 'house_id': 5, 'planets': []}, {'start_degree': 219.72598, 'end_degree': 258.89229, 'sign': 'Scorpio', 'house_id': 6, 'planets': [{'name': 'Pluto', 'sign': 'Scorpio', 'full_degree': 224.7016, 'is_retro': 'false'}]}, {'start_degree': 258.89229, 'end_degree': 280.98632, 'sign': 'Sagittarius', 'house_id': 7, 'planets': [{'name': 'Moon', 'sign': 'Capricorn', 'full_degree': 273.9814, 'is_retro': 'false'}, {'name': 'Venus', 'sign': 'Sagittarius', 'full_degree': 265.1002, 'is_retro': 'false'}, {'name': 'Saturn', 'sign': 'Capricorn', 'full_degree': 276.2806, 'is_retro': 'false'}, {'name': 'Uranus', 'sign': 'Capricorn', 'full_degree': 272.1014, 'is_retro': 'false'}, {'name': 'Neptune', 'sign': 'Capricorn', 'full_degree': 280.1428, 'is_retro': 'false'}]}, {'start_degree': 280.98632, 'end_degree': 302.68627, 'sign': 'Capricorn', 'house_id': 8, 'planets': [{'name': 'Sun', 'sign': 'Capricorn', 'full_degree': 286.504, 'is_retro': 'false'}]}, {'start_degree': 302.68627, 'end_degree': 327.79932, 'sign': 'Aquarius', 'house_id': 9, 'planets': [{'name': 'Mercury', 'sign': 'Aquarius', 'full_degree': 305.3622, 'is_retro': 'false'}]}, {'start_degree': 327.79932, 'end_degree': 359.97811, 'sign': 'Aquarius', 'house_id': 10, 'planets': [{'name': 'Node', 'sign': 'Pisces', 'full_degree': 335.9669, 'is_retro': 'true'}]}, {'start_degree': 359.97811, 'end_degree': 39.72598, 'sign': 'Pisces', 'house_id': 11, 'planets': [{'name': 'Mars', 'sign': 'Aries', 'full_degree': 23.226, 'is_retro': 'false'}]}, {'start_degree': 39.72598, 'end_degree': 78.89229, 'sign': 'Taurus', 'house_id': 12, 'planets': [{'name': 'Jupiter', 'sign': 'Taurus', 'full_degree': 56.4017, 'is_retro': 'true'}, {'name': 'Part of Fortune', 'sign': 'Gemini', 'full_degree': 66.3697, 'is_retro': 'false'}]}], 'aspects': [{'aspecting_planet': 'Sun', 'aspected_planet': 'Pluto', 'aspecting_planet_id': 0, 'aspected_planet_id': 9, 'type': 'Sextile', 'orb': 1.8, 'diff': 61.8}, {'aspecting_planet': 'Sun', 'aspected_planet': 'Ascendant', 'aspecting_planet_id': 0, 'aspected_planet_id': 10, 'type': 'Quincunx', 'orb': 2.39, 'diff': 152.39}, {'aspecting_planet': 'Moon', 'aspected_planet': 'Mercury', 'aspecting_planet_id': 1, 'aspected_planet_id': 3, 'type': 'Semi Sextile', 'orb': 1.38, 'diff': 31.38}, {'aspecting_planet': 'Moon', 'aspected_planet': 'Saturn', 'aspecting_planet_id': 1, 'aspected_planet_id': 6, 'type': 'Conjunction', 'orb': 2.3, 'diff': 2.3}, {'aspecting_planet': 'Moon', 'aspected_planet': 'Uranus', 'aspecting_planet_id': 1, 'aspected_planet_id': 7, 'type': 'Conjunction', 'orb': 1.88, 'diff': 1.88}, {'aspecting_planet': 'Moon', 'aspected_planet': 'Pluto', 'aspecting_planet_id': 1, 'aspected_planet_id': 9, 'type': 'Semi Sqaure', 'orb': 4.28, 'diff': 49.28}, {'aspecting_planet': 'Mars', 'aspected_planet': 'Mercury', 'aspecting_planet_id': 2, 'aspected_planet_id': 3, 'type': 'Quintile', 'orb': 5.86, 'diff': 77.86}, {'aspecting_planet': 'Mars', 'aspected_planet': 'Jupiter', 'aspecting_planet_id': 2, 'aspected_planet_id': 4, 'type': 'Semi Sextile', 'orb': 3.18, 'diff': 33.18}, {'aspecting_planet': 'Mars', 'aspected_planet': 'Venus', 'aspecting_planet_id': 2, 'aspected_planet_id': 5, 'type': 'Trine', 'orb': 1.87, 'diff': 118.13}, {'aspecting_planet': 'Mars', 'aspected_planet': 'Ascendant', 'aspecting_planet_id': 2, 'aspected_planet_id': 10, 'type': 'Sextile', 'orb': 4.33, 'diff': 55.67}, {'aspecting_planet': 'Mercury', 'aspected_planet': 'Venus', 'aspecting_planet_id': 3, 'aspected_planet_id': 5, 'type': 'Semi Sqaure', 'orb': 4.74, 'diff': 40.26}, {'aspecting_planet': 'Mercury', 'aspected_planet': 'Saturn', 'aspecting_planet_id': 3, 'aspected_planet_id': 6, 'type': 'Semi Sextile', 'orb': 0.92, 'diff': 29.08}, {'aspecting_planet': 'Mercury', 'aspected_planet': 'Uranus', 'aspecting_planet_id': 3, 'aspected_planet_id': 7, 'type': 'Semi Sextile', 'orb': 3.26, 'diff': 33.26}, {'aspecting_planet': 'Mercury', 'aspected_planet': 'Neptune', 'aspecting_planet_id': 3, 'aspected_planet_id': 8, 'type': 'Semi Sextile', 'orb': 4.78, 'diff': 25.22}, {'aspecting_planet': 'Jupiter', 'aspected_planet': 'Venus', 'aspecting_planet_id': 4, 'aspected_planet_id': 5, 'type': 'Quincunx', 'orb': 1.3, 'diff': 151.3}, {'aspecting_planet': 'Jupiter', 'aspected_planet': 'Uranus', 'aspecting_planet_id': 4, 'aspected_planet_id': 7, 'type': 'Quincunx', 'orb': 5.7, 'diff': 144.3}, {'aspecting_planet': 'Venus', 'aspected_planet': 'Pluto', 'aspecting_planet_id': 5, 'aspected_planet_id': 9, 'type': 'Semi Sqaure', 'orb': 4.6, 'diff': 40.4}, {'aspecting_planet': 'Saturn', 'aspected_planet': 'Uranus', 'aspecting_planet_id': 6, 'aspected_planet_id': 7, 'type': 'Conjunction', 'orb': 4.18, 'diff': 4.18}, {'aspecting_planet': 'Saturn', 'aspected_planet': 'Neptune', 'aspecting_planet_id': 6, 'aspected_planet_id': 8, 'type': 'Conjunction', 'orb': 3.86, 'diff': 3.86}, {'aspecting_planet': 'Uranus', 'aspected_planet': 'Pluto', 'aspecting_planet_id': 7, 'aspected_planet_id': 9, 'type': 'Semi Sqaure', 'orb': 2.4, 'diff': 47.4}, {'aspecting_planet': 'Neptune', 'aspected_planet': 'Pluto', 'aspecting_planet_id': 8, 'aspected_planet_id': 9, 'type': 'Sextile', 'orb': 4.56, 'diff': 55.44}, {'aspecting_planet': 'Pluto', 'aspected_planet': 'Ascendant', 'aspecting_planet_id': 9, 'aspected_planet_id': 10, 'type': 'Quincunx', 'orb': 4.19, 'diff': 145.81}]}\n"
     ]
    }
   ],
   "source": [
    "#Corrected Python API call, can Run\n",
    "import requests\n",
    "import base64\n",
    "import json\n",
    "\n",
    "api = 'western_chart_data'\n",
    "user_id = '632629'\n",
    "api_key = 'e168a427af50174135b26d6a44bafce7db608da4'\n",
    "language = 'en'  # Default language is English\n",
    "\n",
    "data = {\n",
    "    \"day\": 6,\n",
    "    \"month\": 1,\n",
    "    \"year\": 1989,\n",
    "    \"hour\": 15,\n",
    "    \"min\": 10,\n",
    "    \"lat\": 35.9940,  # Latitude for Durham, NC\n",
    "    \"lon\": -78.8986,  # Longitude for Durham, NC\n",
    "    \"tzone\": -5\n",
    "}\n",
    "\n",
    "auth = \"Basic \" + base64.b64encode(f\"{user_id}:{api_key}\".encode()).decode()\n",
    "\n",
    "headers = {\n",
    "    \"authorization\": auth,\n",
    "    \"Content-Type\": \"application/json\",\n",
    "    \"Accept-Language\": language\n",
    "}\n",
    "\n",
    "response = requests.post(f\"https://json.astrologyapi.com/v1/{api}\", headers=headers, data=json.dumps(data))\n",
    "\n",
    "if response.status_code == 200:\n",
    "    print(response.json())\n",
    "else:\n",
    "    print(f\"Error: {response.status_code}\")\n",
    "    print(response.text)"
   ]
  },
  {
   "cell_type": "code",
   "execution_count": null,
   "id": "45ae69ae-40f6-406c-97ef-a0781de3acec",
   "metadata": {},
   "outputs": [],
   "source": []
  }
 ],
 "metadata": {
  "kernelspec": {
   "display_name": "Python 3 (ipykernel)",
   "language": "python",
   "name": "python3"
  },
  "language_info": {
   "codemirror_mode": {
    "name": "ipython",
    "version": 3
   },
   "file_extension": ".py",
   "mimetype": "text/x-python",
   "name": "python",
   "nbconvert_exporter": "python",
   "pygments_lexer": "ipython3",
   "version": "3.11.0"
  }
 },
 "nbformat": 4,
 "nbformat_minor": 5
}
